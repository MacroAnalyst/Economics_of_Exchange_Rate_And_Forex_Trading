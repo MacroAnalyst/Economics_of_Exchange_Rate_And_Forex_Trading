{
 "cells": [
  {
   "cell_type": "code",
   "execution_count": 1,
   "id": "e4e14153-dd83-4403-9642-a8cd46d812df",
   "metadata": {},
   "outputs": [],
   "source": [
    "import numpy as np\n",
    "import matplotlib.pyplot as plt\n",
    "import pandas as pd"
   ]
  },
  {
   "cell_type": "markdown",
   "id": "d69415c8-39a3-4bf3-88b4-88dfeb267ab7",
   "metadata": {},
   "source": [
    "# <font face=\"gotham\" color=\"purple\"> Order Book</font>"
   ]
  },
  {
   "cell_type": "markdown",
   "id": "eb340c91-7342-4554-bb20-05e1c024559a",
   "metadata": {},
   "source": [
    "You should know that the **order book**  is a popular term if you are familiar with stocking trading.   "
   ]
  },
  {
   "cell_type": "markdown",
   "id": "817f0b82-dbba-41e7-b005-5439e9673d3d",
   "metadata": {},
   "source": [
    "In the order book, the current highest **buy order** is called **bid**, the current lowest **sell order** is **ask**. The difference between them is the **spread**.\n",
    "\n",
    "If you long a pair, your cost will be the _ask price_, if you short a pair, your cost will be the _bid price_."
   ]
  },
  {
   "cell_type": "markdown",
   "id": "57eff658-4b3a-4d68-bf89-2074383bc212",
   "metadata": {},
   "source": [
    "<img src=\"order_book.jpg\" width=\"600\" class=\"center\" align=\"center\"/>"
   ]
  },
  {
   "cell_type": "markdown",
   "id": "a69d67f0-3c36-4e96-b090-b34ca8f1bf3e",
   "metadata": {},
   "source": [
    "# <font face=\"gotham\" color=\"purple\"> ECN, DMA </font>"
   ]
  },
  {
   "cell_type": "markdown",
   "id": "c2b7f5cf-9b32-4968-b4c8-3fc9aeeacb58",
   "metadata": {},
   "source": [
    "**Electronic Communications Networks** (**ECN**) operates as virtually centralized marketplaces, aggregating offers to trade and matching them against incoming trade requests. \n",
    "\n",
    "In contrast to the **dealer-client markets** (**DCM**), which were quote-driven, these platforms were generally order-driven. An order-driven market is a market in which executable prices are offered in advance of any requests to trade. "
   ]
  },
  {
   "cell_type": "markdown",
   "id": "757407ae-3639-432c-bbe3-076fecd88a64",
   "metadata": {},
   "source": [
    "# <font face=\"gotham\" color=\"purple\"> Pip Value Calculation </font>"
   ]
  },
  {
   "cell_type": "markdown",
   "id": "3ee6f9aa-484d-4b57-a3ce-3b5070d266bf",
   "metadata": {},
   "source": [
    "A standard lot is the equivalent of $100,000$ units of the base currency in a forex trade.\n",
    "$$\n",
    "\\underbrace{\\text{EUR}}_{\\text{Base Currency}}/\\underbrace{\\text{USD}}_{\\text{Quote Currency}}\n",
    "$$\n",
    "Say the spot price (practically $0$ spread, some raw spread broker can provide this service) of $\\text{EUR/USD}$ is \n",
    "$$\n",
    "\\text{EUR/USD} = 1.12345\n",
    "$$\n",
    "**One standard lot** costs  "
   ]
  },
  {
   "cell_type": "code",
   "execution_count": 2,
   "id": "1244bb71-03d5-43eb-95f8-7d7a2989c24e",
   "metadata": {},
   "outputs": [
    {
     "name": "stdout",
     "output_type": "stream",
     "text": [
      "112345.0\n"
     ]
    }
   ],
   "source": [
    "a = 1.12345*100000; print(a)"
   ]
  },
  {
   "cell_type": "markdown",
   "id": "9c8c83f5-105a-4c28-b401-2e88081daef8",
   "metadata": {},
   "source": [
    "of which the unit is from quote currency i.e. $\\text{USD}$. If the spot price increase one **pip** (10 pipettes), here is the new contract value"
   ]
  },
  {
   "cell_type": "code",
   "execution_count": 3,
   "id": "99be389b-c61c-45d9-8718-2e649148d2ea",
   "metadata": {},
   "outputs": [
    {
     "name": "stdout",
     "output_type": "stream",
     "text": [
      "112355.0\n"
     ]
    }
   ],
   "source": [
    "b = 1.12355*100000; print(b)"
   ]
  },
  {
   "cell_type": "markdown",
   "id": "f016fc84-48b7-4d89-a50b-bd2d3be9e395",
   "metadata": {},
   "source": [
    "Therefore one pip value of $\\text{EUR/USD}$ is"
   ]
  },
  {
   "cell_type": "code",
   "execution_count": 4,
   "id": "d7e90666-1562-4461-8149-e098ea3b7ff5",
   "metadata": {},
   "outputs": [
    {
     "data": {
      "text/plain": [
       "10.0"
      ]
     },
     "execution_count": 4,
     "metadata": {},
     "output_type": "execute_result"
    }
   ],
   "source": [
    "b - a"
   ]
  },
  {
   "cell_type": "markdown",
   "id": "4ba46e0d-44ea-4e9d-86cb-12ec99715d11",
   "metadata": {},
   "source": [
    "which means one pip value of a standard lot is $10$ USD."
   ]
  },
  {
   "cell_type": "markdown",
   "id": "a45c69eb-08e4-4927-a5c4-e44858b4eb65",
   "metadata": {},
   "source": [
    "Try another example with $\\text{CNY}$ \n",
    "$$\n",
    "\\text{USD/CNY} = 6.45678\n",
    "$$"
   ]
  },
  {
   "cell_type": "code",
   "execution_count": 5,
   "id": "3a12902b-197c-4981-b480-ca8c4a8dc322",
   "metadata": {},
   "outputs": [
    {
     "name": "stdout",
     "output_type": "stream",
     "text": [
      "645678.0\n",
      "645688.0\n",
      "Pip value of USD/CNY: 1.54876 USD\n"
     ]
    }
   ],
   "source": [
    "usdcny = 6.45678\n",
    "a = 100000*6.45678; print(a)\n",
    "b = 100000*6.45688; print(b)\n",
    "print('Pip value of USD/CNY: {:.5f} USD'.format((b - a)/usdcny))"
   ]
  },
  {
   "cell_type": "markdown",
   "id": "a1ae2c6d-4a8b-492c-a9ff-f39a7f65a25c",
   "metadata": {},
   "source": [
    "As you can see, one pip movement is always $10$ units of quote currency (except JPY which is $1000$ Yen a pip), but it has to be converted back to your **deposit currency**, which is the funds that you wired to your broker, $\\text{EUR}$ and $\\text{USD}$ are the most common choices.\n",
    "\n",
    "To summarize, in order to calculate the pip value, you will need the exchange rate between the quote currency and your deposit currency, which is assumed to be $\\text{USD}$. If the quote currency has a direct quote, divide $10$ by the direct quote; if it is a indirect quote, multiply by it.\n",
    "\n",
    "Here is a function of pip value."
   ]
  },
  {
   "cell_type": "code",
   "execution_count": 6,
   "id": "03d0b7c6-3590-4bd1-b5b2-af1f27b1e774",
   "metadata": {},
   "outputs": [],
   "source": [
    "def pip_val_calulator(quote_deposit_rate, direct, lots = 1):\n",
    "    if direct == True:\n",
    "        return lots*10/quote_deposit_rate\n",
    "    else:\n",
    "        return lots*10*quote_deposit_rate"
   ]
  },
  {
   "cell_type": "markdown",
   "id": "32d5a821-4142-4ed5-b710-7539ed36ef4b",
   "metadata": {},
   "source": [
    "Another example, spot price $\\text{GBPCHF}= 1.23869$, your deposit currency is euro. So to calculate pip value it doesn't matter what $\\text{GBPCHF}$ is， what matters is quote and deposit current rate, here the quote currents is $\\text{CHF}$, your deposit current is $\\text{EUR}$, then go check $\\text{EURCHF}$ spot price, for instance $\\text{EURCHF}=1.03112$."
   ]
  },
  {
   "cell_type": "code",
   "execution_count": 7,
   "id": "2fb0bbbf-7eaa-4bfd-9f6f-f1fbf7dbe40e",
   "metadata": {},
   "outputs": [
    {
     "data": {
      "text/plain": [
       "8.948065428254411"
      ]
     },
     "execution_count": 7,
     "metadata": {},
     "output_type": "execute_result"
    }
   ],
   "source": [
    "pip_val_calulator(1.11756, direct = True)"
   ]
  },
  {
   "cell_type": "markdown",
   "id": "5b265bbd-1b4b-405f-887d-c9dc820e6978",
   "metadata": {},
   "source": [
    "Now multiply the lots, you obtain the exact pip value for your trade"
   ]
  },
  {
   "cell_type": "code",
   "execution_count": 8,
   "id": "e5437976-516f-410f-9994-e3f525840ff9",
   "metadata": {},
   "outputs": [
    {
     "data": {
      "text/plain": [
       "4.474032714127206"
      ]
     },
     "execution_count": 8,
     "metadata": {},
     "output_type": "execute_result"
    }
   ],
   "source": [
    "pip_val_calulator(1.11756, direct=True, lots = .5)"
   ]
  },
  {
   "cell_type": "markdown",
   "id": "611d5919-c5a3-4c07-8cb5-6c61ad1351e4",
   "metadata": {},
   "source": [
    "You can also calculate pip value in myfxbook's <a href = 'https://www.myfxbook.com/forex-calculators/pip-calculator'>pip value calculator</a>."
   ]
  },
  {
   "cell_type": "markdown",
   "id": "a8b19566-93f8-42a7-ba46-5a4d25c62031",
   "metadata": {},
   "source": [
    "# <font face=\"gotham\" color=\"purple\"> Rollover Fee </font>"
   ]
  },
  {
   "cell_type": "markdown",
   "id": "275c4f84-9544-4b4d-a283-51ceb39fc067",
   "metadata": {},
   "source": [
    "In the underlying market, spot FX transactions tend to settle two business days after the trade date (T+2). If an institution buys $\\text{EURUSD}$ in the spot FX market, they’ll receive $\\text{EUR}$s at the agreed rate two days after the day of the trade. There are some exceptions to this rule, for example, $\\text{USDCAD}$, which settles the day after the trade (T+1).\n",
    "\n",
    "However, we, as traders, are not interested in settlement, that is also why brokers won't deliver the trading currencies to you. In order to maintain your position while settlement approaching, broker will **roll over** your orders."
   ]
  },
  {
   "cell_type": "markdown",
   "id": "c17b736b-70b5-4e02-b881-2a7173eca6e7",
   "metadata": {},
   "source": [
    "In the Forex market, **rollover fee** is the interest paid at the time of rollover. Holding open positions after 5 pm (New York EST) or 21 pm London time incurs interest, either in the shape of a debit or credit, subject to a country’s overnight interest rate.\n",
    "\n",
    "The broker will specify two types of rollover fee, which are **swap long** and **swap short**. Here is a screen capture in MT4 when you enter the _Specification_ of $\\text{EURCHF}$"
   ]
  },
  {
   "cell_type": "markdown",
   "id": "af1c4992-bb66-43e6-b122-78b8b6afd574",
   "metadata": {},
   "source": [
    "<img src=\"rollover.jpg\" width=\"300\" class=\"center\" align=\"center\"/>"
   ]
  },
  {
   "cell_type": "markdown",
   "id": "1ec81f5a-4400-4ea5-b82b-0def3acd4d40",
   "metadata": {},
   "source": [
    "Note that _Swap type_ is _in points_ and fee of _Swap long_ and _short_ are given."
   ]
  },
  {
   "cell_type": "markdown",
   "id": "0a05c3c1-f5b5-488f-aa1b-1f3d0cfb81c2",
   "metadata": {},
   "source": [
    "To convert MT4 swap points to an equivalent monetary value denoted in deposit currency $\\text{USD}$, trading 1 standard lot size, we need to use spot $\\text{USDCHF}$, say currently $0.94724$. Both _swap long_ and _short_ fee are denoted by quote currency, in this example, $\\text{CHF}$."
   ]
  },
  {
   "cell_type": "code",
   "execution_count": 9,
   "id": "91411470-db8b-407d-9e44-0605372633d3",
   "metadata": {},
   "outputs": [
    {
     "name": "stdout",
     "output_type": "stream",
     "text": [
      "One standard lot Swap Long fee of EURCHF: -5.73 dollars\n",
      "One standard lot Swap Short fee of EURCHF: -6.68 dollars\n"
     ]
    }
   ],
   "source": [
    "swap_long = -5.43\n",
    "swap_short = -6.3305\n",
    "\n",
    "usdchf_spot = .94724\n",
    "\n",
    "print('One standard lot Swap Long fee of EURCHF: {:.3} dollars'.format(swap_long/usdchf_spot))\n",
    "print('One standard lot Swap Short fee of EURCHF: {:.3} dollars'.format(swap_short/usdchf_spot))"
   ]
  },
  {
   "cell_type": "markdown",
   "id": "baa9f1ca-3eb6-4aa5-9446-b07dda2503c2",
   "metadata": {},
   "source": [
    "Futhermore, you might have also noticed **3-days swap**. In the industry, we also call it **triple swap Wednesday**. This is because if a trader holds a position past 5pm New York time on Wednesday, the trade will be treated as having been executed on Thursday and deliver on the next Monday, so the account will be adjusted for three days of interest, that is Wednesday, Saturday and Sunday. "
   ]
  },
  {
   "cell_type": "markdown",
   "id": "a09f0894-8ae9-4874-8306-261ac9137b95",
   "metadata": {
    "tags": []
   },
   "source": [
    "# <font face=\"gotham\" color=\"purple\"> Capital Loss And Recovery </font>"
   ]
  },
  {
   "cell_type": "markdown",
   "id": "70b1c021-5868-41cb-b7d9-34d307ecb82e",
   "metadata": {},
   "source": [
    "The more you lose in one single trade, the harder to accumulate the capital. As a rule of thumb, the maximum loss for each trade must be less than $2\\%$ of your account. To lose $20\\%$ of your account, you must go through $11$ losing trades in a row. \n",
    "\n",
    "Here's the number."
   ]
  },
  {
   "cell_type": "code",
   "execution_count": 10,
   "id": "7a4c5892-43bb-4204-b65b-a0e23793dfc0",
   "metadata": {},
   "outputs": [
    {
     "data": {
      "text/plain": [
       "0.8007313507497958"
      ]
     },
     "execution_count": 10,
     "metadata": {},
     "output_type": "execute_result"
    }
   ],
   "source": [
    ".98**11"
   ]
  },
  {
   "cell_type": "markdown",
   "id": "5d674b08-42a1-40f6-8aae-95227f75f39a",
   "metadata": {},
   "source": [
    "But this is extremely unlikely. Suppose your winning rate is $51\\%$, to have $11$ losing trades (suppose your each trade is independent event) has a probability of "
   ]
  },
  {
   "cell_type": "code",
   "execution_count": 11,
   "id": "9e6d9048-688a-4756-a9fc-ee6ebfc9b8f7",
   "metadata": {},
   "outputs": [
    {
     "data": {
      "text/plain": [
       "0.00039098210485829875"
      ]
     },
     "execution_count": 11,
     "metadata": {},
     "output_type": "execute_result"
    }
   ],
   "source": [
    ".49**11"
   ]
  },
  {
   "cell_type": "markdown",
   "id": "9e776f93-5714-4d4c-a5f0-5f5655632982",
   "metadata": {},
   "source": [
    "So keep your loss bounded at $2\\%$ for each trade. Even if it $11$ loss trades, you still have $80\\%$ of your capital given that your strategy is working in the long run."
   ]
  },
  {
   "cell_type": "code",
   "execution_count": 12,
   "id": "4a8fab09-fbca-406d-a3ba-48e770b604c0",
   "metadata": {},
   "outputs": [],
   "source": [
    "def loss_rec(loss):\n",
    "    '''Input a number between 0 and 100, the unit is percentage.'''\n",
    "    return np.round((100/(100 - loss) - 1) * 100, 2)"
   ]
  },
  {
   "cell_type": "code",
   "execution_count": 13,
   "id": "2c4bbcb4-7bc6-4607-956c-32a0ef7d111e",
   "metadata": {},
   "outputs": [
    {
     "data": {
      "image/png": "[encoded data removed]",
      "text/plain": [
       "<Figure size 504x1008 with 1 Axes>"
      ]
     },
     "metadata": {
      "needs_background": "light"
     },
     "output_type": "display_data"
    }
   ],
   "source": [
    "loss = np.arange(1, 55)\n",
    "recovery = loss_rec(loss)\n",
    "fig, ax = plt.subplots(figsize = (7, 14))\n",
    "ax.plot(loss, recovery)\n",
    "ax.plot(loss, loss)\n",
    "ax.grid()\n",
    "ax.set_xlabel('How much $\\%$ you lose in one trade')\n",
    "ax.set_ylabel('How much $\\%$ you need to win to have the same capital as before')\n",
    "plt.show()"
   ]
  },
  {
   "cell_type": "markdown",
   "id": "fa10b656-0d14-48eb-9f4b-e38ae72ef7f7",
   "metadata": {},
   "source": [
    "# <font face=\"gotham\" color=\"purple\"> Money Management </font>"
   ]
  },
  {
   "cell_type": "markdown",
   "id": "ba31391c-612f-4344-8cf5-b983b069762c",
   "metadata": {},
   "source": [
    "The key of risk management is to ask"
   ]
  },
  {
   "cell_type": "markdown",
   "id": "c8202842-c6da-4b06-b7ce-44325c6d66aa",
   "metadata": {},
   "source": [
    "<div style=\"background-color:Bisque; color:DarkBlue; padding:30px;\">\n",
    "<h3>Q: How much percentage of your capital you are will to risk (loss) in each trade?</h3>\n",
    "    <h3>A: A Rule of Thumb is less than 2% for each trade.</h3>\n",
    "</div> "
   ]
  },
  {
   "cell_type": "markdown",
   "id": "84d52060-40e9-4e09-b4be-21117f5e8f39",
   "metadata": {},
   "source": [
    "Here are steps to calculate your position size, you can deviate it only when you are consciously aware of the risk.\n",
    "1. Set $2\\%$ as maximum per trade loss.\n",
    "2. Calculate $L_{max}=2\\%\\times M$ to get max loss $L_{max}$ in monetary unit, where $M$ represents total capital\n",
    "3. Decide your entry price, denote as $a$.\n",
    "4. Decide your stop loss price, denote as $b$.\n",
    "5. Calculate position size with follow formula, where $p_v$ is the pair's pip value\n",
    "$$\n",
    "s = \\frac{L_{max}}{(|a-b|)p_v}\n",
    "$$"
   ]
  },
  {
   "cell_type": "markdown",
   "id": "8a31ae90-c35c-4f47-bb42-a4174e7f031f",
   "metadata": {},
   "source": [
    "Suppose your account has $\\$47394$ , then max loss per trade is"
   ]
  },
  {
   "cell_type": "code",
   "execution_count": 14,
   "id": "844a49be-164b-4941-8a30-c9c80ba5704b",
   "metadata": {},
   "outputs": [
    {
     "data": {
      "text/plain": [
       "947.88"
      ]
     },
     "execution_count": 14,
     "metadata": {},
     "output_type": "execute_result"
    }
   ],
   "source": [
    "L_max = 0.02*47394; L_max"
   ]
  },
  {
   "cell_type": "markdown",
   "id": "63606464-cf55-450c-9256-1c81caa493ba",
   "metadata": {},
   "source": [
    "You are shorting $\\text{EUR/USD}$ at $1.1890$, stop loss at $1.1930$, total pips loss are"
   ]
  },
  {
   "cell_type": "code",
   "execution_count": 15,
   "id": "8cbd9524-4a68-4aa7-bea1-2bcc220be680",
   "metadata": {},
   "outputs": [
    {
     "data": {
      "text/plain": [
       "40"
      ]
     },
     "execution_count": 15,
     "metadata": {},
     "output_type": "execute_result"
    }
   ],
   "source": [
    "int(abs(1.1890-1.1930)*10000)"
   ]
  },
  {
   "cell_type": "markdown",
   "id": "fda1e83a-831f-4f4a-a49f-4f383b26f0c5",
   "metadata": {},
   "source": [
    "So max loss of every pip is"
   ]
  },
  {
   "cell_type": "code",
   "execution_count": 16,
   "id": "54db4082-3281-4498-a156-26ecbad137be",
   "metadata": {},
   "outputs": [
    {
     "data": {
      "text/plain": [
       "23.697"
      ]
     },
     "execution_count": 16,
     "metadata": {},
     "output_type": "execute_result"
    }
   ],
   "source": [
    "L_max_pip = 947.88/40; L_max_pip"
   ]
  },
  {
   "cell_type": "markdown",
   "id": "8f100d9f-aef0-4a28-8df8-22c6b0e330e0",
   "metadata": {},
   "source": [
    "Now the question is how many lots should you trade in order to gain/lose $\\$23.697$ per pip. Every pip of $\\text{EUR/USD}$ is $10$ dollars, therefore"
   ]
  },
  {
   "cell_type": "code",
   "execution_count": 17,
   "id": "cd4fb8ac-734b-4406-b5e7-6edd56849f73",
   "metadata": {},
   "outputs": [
    {
     "data": {
      "text/plain": [
       "2.3697"
      ]
     },
     "execution_count": 17,
     "metadata": {},
     "output_type": "execute_result"
    }
   ],
   "source": [
    "L_max_pip/10"
   ]
  },
  {
   "cell_type": "markdown",
   "id": "2e39c9d8-e112-46d0-bfc7-64b23530e5d8",
   "metadata": {},
   "source": [
    "So you should set you position at $2.3697$ lots. Here is a function to summarize calculations above"
   ]
  },
  {
   "cell_type": "code",
   "execution_count": 18,
   "id": "6a7daf54-1ff2-427b-bc31-f9ad4055abfa",
   "metadata": {},
   "outputs": [],
   "source": [
    "def pos_sizing(M, risk_ratio, sl_pips, pip_val):\n",
    "    \"\"\"Posistion sizing\"\"\"\n",
    "    L_max = M * risk_ratio\n",
    "    L_max_pip = L_max/sl_pips\n",
    "    return np.round(L_max_pip/pip_val, 2)"
   ]
  },
  {
   "cell_type": "code",
   "execution_count": 19,
   "id": "5649a1f7-9db0-4d83-8fb1-549e53d53a6f",
   "metadata": {},
   "outputs": [
    {
     "data": {
      "text/plain": [
       "0.07"
      ]
     },
     "execution_count": 19,
     "metadata": {},
     "output_type": "execute_result"
    }
   ],
   "source": [
    "pos_sizing(M=1600, risk_ratio = .02, sl_pips = 300, pip_val = 1.6)"
   ]
  },
  {
   "cell_type": "markdown",
   "id": "cac94361-5d6d-4d6d-9cb0-cb34af2dd8be",
   "metadata": {},
   "source": [
    "## <font face=\"gotham\" color=\"purple\"> Example 1</font>"
   ]
  },
  {
   "cell_type": "markdown",
   "id": "866554cb-86b5-403b-b54e-ec6f33c05f53",
   "metadata": {},
   "source": [
    "Let's use function to calculate one more example. \n",
    "\n",
    "You plan to long $\\text{AUDNZD}$ at price $1.0323$, stop loss at $1.0160$. Your capital is $\\$12902$, risk ratio is $1.5\\%$, sport $\\text{NZDUSD}$ is $0.68542$."
   ]
  },
  {
   "cell_type": "markdown",
   "id": "4d01e80b-bc34-400b-8ed6-2f13cafa81e8",
   "metadata": {},
   "source": [
    "Calculate the amount of pips on stop-loss."
   ]
  },
  {
   "cell_type": "code",
   "execution_count": 20,
   "id": "ad499434-1e44-41b6-9821-105e00e57cd4",
   "metadata": {},
   "outputs": [
    {
     "data": {
      "text/plain": [
       "163.0"
      ]
     },
     "execution_count": 20,
     "metadata": {},
     "output_type": "execute_result"
    }
   ],
   "source": [
    "entry = 1.0323\n",
    "stop_loss = 1.0160\n",
    "sl_pips = np.round(abs(entry - stop_loss)*10000,3)\n",
    "sl_pips"
   ]
  },
  {
   "cell_type": "code",
   "execution_count": 21,
   "id": "3b2305d5-b48c-41db-b30c-72f3efa9264d",
   "metadata": {},
   "outputs": [],
   "source": [
    "pip_val = 10*.68542"
   ]
  },
  {
   "cell_type": "code",
   "execution_count": 22,
   "id": "6594dd1d-cb0b-4d19-8983-e3867e8e4c84",
   "metadata": {},
   "outputs": [
    {
     "data": {
      "text/plain": [
       "0.21"
      ]
     },
     "execution_count": 22,
     "metadata": {},
     "output_type": "execute_result"
    }
   ],
   "source": [
    "pos_sizing(M=15482, risk_ratio = .015, sl_pips = sl_pips, pip_val = pip_val)"
   ]
  },
  {
   "cell_type": "markdown",
   "id": "a5eb4bfa-6337-470f-a8ad-744b71622b4c",
   "metadata": {},
   "source": [
    "## <font face=\"gotham\" color=\"purple\"> Example 2</font>"
   ]
  },
  {
   "cell_type": "markdown",
   "id": "8fa450ee-0e13-4ebe-b57a-0b03943b2625",
   "metadata": {},
   "source": [
    "You plan to long $\\text{CADJPY}$ with a stop loss of $50$ pips. Your capital is $364535$ swissy francs, risk ratio is $2\\%$, current $CHFJPY$ is $117.93400$."
   ]
  },
  {
   "cell_type": "code",
   "execution_count": 23,
   "id": "751343e5-edc2-4fe1-b0bb-b3d19c672675",
   "metadata": {},
   "outputs": [
    {
     "data": {
      "text/plain": [
       "19.11"
      ]
     },
     "execution_count": 23,
     "metadata": {},
     "output_type": "execute_result"
    }
   ],
   "source": [
    "pip_val = 1000/117.934\n",
    "pos_sizing(M=364535, risk_ratio = .02, sl_pips = 45, pip_val = pip_val)"
   ]
  },
  {
   "cell_type": "markdown",
   "id": "7bb1e8a7-044a-4f99-8b6f-2f8467fb11d1",
   "metadata": {},
   "source": [
    "You can also calculate pip value in myfxbook's <a href = 'https://www.myfxbook.com/forex-calculators/position-size'>position size calculator</a>."
   ]
  },
  {
   "cell_type": "markdown",
   "id": "fcc78eac-8628-4beb-a362-bc70375fa7c8",
   "metadata": {},
   "source": [
    "If you prefer to calculate by yourself, make sure the pip value is correctly computed."
   ]
  },
  {
   "cell_type": "markdown",
   "id": "036d9858-a9c4-4d03-97c7-801c27ded341",
   "metadata": {},
   "source": [
    "# <font face=\"gotham\" color=\"purple\"> Margin </font>"
   ]
  },
  {
   "cell_type": "markdown",
   "id": "e79b5661-1b3f-4de5-a2f6-e2c19b7d6f13",
   "metadata": {},
   "source": [
    "The **margin** is the amount of equity that you pledges whenever an order is executed. "
   ]
  },
  {
   "cell_type": "markdown",
   "id": "336948e3-347d-412f-8b61-3a6f60e86d38",
   "metadata": {},
   "source": [
    "$$\n",
    "m = \\frac{100000}{\\text{leverage}}\\times\\text{lots} \\times E_{B/D}\n",
    "$$"
   ]
  },
  {
   "cell_type": "markdown",
   "id": "42927a33-0a9a-4d5d-b3e6-ca36d4831bf3",
   "metadata": {},
   "source": [
    "where $E_{B/D}$ is executed price of base to deposit currency, $\\text{lots}$ is lot size. The formula itself is self-explanatory. You can see your **leverage** in your account specifics, if in EU, most probably will be $30$, which means you will leverage $30$ times of your own capital.\n",
    "\n",
    "Intuitively, your margin (unit of base currency) for a standard contract is $100000/\\text{leverage}$, multiply by the lots is the total amount of margin you pledge (unit of base currency). But it usually needs to be converted into your deposit currency, in this case we use $\\text{USD}$."
   ]
  },
  {
   "cell_type": "code",
   "execution_count": 35,
   "id": "5f3f30f9-f735-475f-89c1-1b1380617c2b",
   "metadata": {},
   "outputs": [],
   "source": [
    "def margin(base2depo, lot, lev):\n",
    "    return 10e4/lev*base2depo*lot\n",
    "def fr_margin(cap, margin):\n",
    "    return cap - margin"
   ]
  },
  {
   "cell_type": "markdown",
   "id": "d5fc435a-4d29-4480-8910-9a12ffceb1fc",
   "metadata": {},
   "source": [
    "If you buy $\\text{EURUSD}$ at a price of $1.8374$ with lot size of $0.5$ and your leverage is $30$, here is your margin"
   ]
  },
  {
   "cell_type": "code",
   "execution_count": 41,
   "id": "62d821d3-4a92-476d-9bec-b74075ad84db",
   "metadata": {},
   "outputs": [
    {
     "data": {
      "text/plain": [
       "612.4666666666667"
      ]
     },
     "execution_count": 41,
     "metadata": {},
     "output_type": "execute_result"
    }
   ],
   "source": [
    "margin(1.8374, .1, 30)"
   ]
  },
  {
   "cell_type": "code",
   "execution_count": 37,
   "id": "84926ac8-0422-49a6-ac41-a5813adbfa01",
   "metadata": {},
   "outputs": [
    {
     "data": {
      "text/plain": [
       "1423.5946666666666"
      ]
     },
     "execution_count": 37,
     "metadata": {},
     "output_type": "execute_result"
    }
   ],
   "source": [
    "fr_margin(1580, margin(1.17304, .04, 30))"
   ]
  },
  {
   "cell_type": "markdown",
   "id": "83165059-19a1-4bd2-8c79-539c51c757e2",
   "metadata": {},
   "source": [
    "# <font face=\"gotham\" color=\"purple\"> Batting Average and Win/Loss Ratio </font>"
   ]
  },
  {
   "cell_type": "markdown",
   "id": "b21bae42-dd3e-4cd1-811d-87821d47621c",
   "metadata": {},
   "source": [
    "In industry, it measures how many days a portfolio manager outperforms the reference index within a given period of time. In trading, it is simply the winning rate, i.e. the number of profitable trades over total number of trades."
   ]
  },
  {
   "cell_type": "markdown",
   "id": "d237f4da-1c29-46d4-a49c-2367d23258d3",
   "metadata": {},
   "source": [
    "Here's an example how the batting average and win/loss ratio calculated."
   ]
  },
  {
   "cell_type": "code",
   "execution_count": 53,
   "id": "5d17ac1b-1859-438f-a8b3-fbe95c2b7e3d",
   "metadata": {},
   "outputs": [],
   "source": [
    "trade_history = np.array([80, -100, 260, 10, -160, 100, 120, 150, -90, -30, 180, -100])"
   ]
  },
  {
   "cell_type": "code",
   "execution_count": 54,
   "id": "1f4cff2a-233e-4253-bb73-d0c8e2891666",
   "metadata": {},
   "outputs": [],
   "source": [
    "win_trd = len(trade_history[trade_history>0])\n",
    "loss_trd = len(trade_history[trade_history<0])\n",
    "tot_trd = len(trade_history)"
   ]
  },
  {
   "cell_type": "code",
   "execution_count": 55,
   "id": "a3ed2de0-fe82-4cd7-a91b-450d0b1e6743",
   "metadata": {},
   "outputs": [
    {
     "name": "stdout",
     "output_type": "stream",
     "text": [
      "Batting average is 0.58.\n"
     ]
    }
   ],
   "source": [
    "print('Batting average is {:.2}.'.format(win_trd/tot_trd))"
   ]
  },
  {
   "cell_type": "code",
   "execution_count": 56,
   "id": "7c4fc677-25cc-46bb-ad2b-1520e46e6591",
   "metadata": {},
   "outputs": [],
   "source": [
    "ave_profit = np.sum(trade_history[trade_history>0])/win_trd\n",
    "ave_loss = np.sum(trade_history[trade_history>0])/loss_trd"
   ]
  },
  {
   "cell_type": "code",
   "execution_count": 59,
   "id": "47196094-2ac6-409f-8a4d-d160e8a792fc",
   "metadata": {},
   "outputs": [
    {
     "name": "stdout",
     "output_type": "stream",
     "text": [
      "Average winning is 128.57142857142858\n",
      "Average loss is 180.0\n",
      "Winning loss ratio is 0.7142857142857143\n"
     ]
    }
   ],
   "source": [
    "print('Average winning is {}'.format(ave_profit))\n",
    "print('Average loss is {}'.format(ave_loss))\n",
    "print('Winning loss ratio is {}'.format(ave_profit/ave_loss))"
   ]
  },
  {
   "cell_type": "code",
   "execution_count": null,
   "id": "d255ae19-c9dd-4b7f-a299-35b58c7411bc",
   "metadata": {},
   "outputs": [],
   "source": []
  },
  {
   "cell_type": "code",
   "execution_count": null,
   "id": "268ddbbb-7372-46d2-9c1d-64c9ec91c67d",
   "metadata": {},
   "outputs": [],
   "source": []
  },
  {
   "cell_type": "code",
   "execution_count": null,
   "id": "00c61da1-bbe2-41c3-a171-006522389768",
   "metadata": {},
   "outputs": [],
   "source": []
  },
  {
   "cell_type": "code",
   "execution_count": null,
   "id": "2fc24271-1255-4876-b0a9-5a5ad6b70ebd",
   "metadata": {},
   "outputs": [],
   "source": []
  }
 ],
 "metadata": {
  "kernelspec": {
   "display_name": "Python 3 (ipykernel)",
   "language": "python",
   "name": "python3"
  },
  "language_info": {
   "codemirror_mode": {
    "name": "ipython",
    "version": 3
   },
   "file_extension": ".py",
   "mimetype": "text/x-python",
   "name": "python",
   "nbconvert_exporter": "python",
   "pygments_lexer": "ipython3",
   "version": "3.8.12"
  }
 },
 "nbformat": 4,
 "nbformat_minor": 5
}
